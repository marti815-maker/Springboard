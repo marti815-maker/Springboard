{
 "cells": [
  {
   "cell_type": "code",
   "execution_count": 3,
   "metadata": {},
   "outputs": [
    {
     "name": "stdout",
     "output_type": "stream",
     "text": [
      "<class 'pandas.core.frame.DataFrame'>\n",
      "RangeIndex: 38765 entries, 0 to 38764\n",
      "Data columns (total 3 columns):\n",
      " #   Column           Non-Null Count  Dtype         \n",
      "---  ------           --------------  -----         \n",
      " 0   Member_number    38765 non-null  int64         \n",
      " 1   Date             38765 non-null  datetime64[ns]\n",
      " 2   itemDescription  38765 non-null  object        \n",
      "dtypes: datetime64[ns](1), int64(1), object(1)\n",
      "memory usage: 908.7+ KB\n",
      "\n",
      "Total elapsed time in data collection:  728 days 00:00:00\n"
     ]
    }
   ],
   "source": [
    "import pandas as pd\n",
    "from datetime import datetime, timedelta\n",
    "\n",
    "df=pd.read_csv('Groceries_dataset.csv')\n",
    "df['Date'] =  pd.to_datetime(df['Date'])\n",
    "df.info()\n",
    "print('\\nTotal elapsed time in data collection: ',max(df['Date'])-min(df['Date']))"
   ]
  },
  {
   "cell_type": "code",
   "execution_count": 4,
   "metadata": {},
   "outputs": [
    {
     "name": "stdout",
     "output_type": "stream",
     "text": [
      "                                                         itemDescription\n",
      "                                                         cust_aggregator\n",
      "Member_number Date                                                      \n",
      "1000          2014-06-24                  whole milk|pastry|salty snack|\n",
      "              2015-03-15  sausage|whole milk|semi-finished bread|yogurt|\n",
      "              2015-05-27                        soda|pickled vegetables|\n",
      "              2015-07-24                    canned beer|misc. beverages|\n",
      "              2015-11-25                       sausage|hygiene articles|\n",
      "1001          2014-07-02                  sausage|whole milk|rolls/buns|\n",
      "              2014-12-12                                whole milk|soda|\n",
      "              2015-01-20            frankfurter|soda|whipped/sour cream|\n",
      "              2015-02-05                               frankfurter|curd|\n",
      "              2015-04-14                               beef|white bread|\n",
      "1002          2014-04-26                              butter|whole milk|\n",
      "              2014-09-02             frozen vegetables|other vegetables|\n",
      "              2015-04-26                           tropical fruit|sugar|\n",
      "              2015-08-30                butter milk|specialty chocolate|\n",
      "1003          2014-01-19                       frozen meals|dental care|\n",
      "              2014-02-27                          rolls/buns|rolls/buns|\n",
      "              2014-10-15                      root vegetables|detergent|\n",
      "              2015-10-02                             sausage|rolls/buns|\n",
      "1004          2014-01-05                   dish cleaner|cling film/bags|\n",
      "              2014-01-07                        canned beer|frozen fish|\n"
     ]
    }
   ],
   "source": [
    "def cust_aggregator(series):\n",
    "    item_str=''\n",
    "    for item in series.values:\n",
    "        item_str+=item+'|'\n",
    "    return item_str\n",
    "\n",
    "df=df.groupby(['Member_number','Date']).agg({'itemDescription': [cust_aggregator]})\n",
    "print(df.head(20))"
   ]
  }
 ],
 "metadata": {
  "kernelspec": {
   "display_name": "Python 3",
   "language": "python",
   "name": "python3"
  },
  "language_info": {
   "codemirror_mode": {
    "name": "ipython",
    "version": 3
   },
   "file_extension": ".py",
   "mimetype": "text/x-python",
   "name": "python",
   "nbconvert_exporter": "python",
   "pygments_lexer": "ipython3",
   "version": "3.8.3"
  }
 },
 "nbformat": 4,
 "nbformat_minor": 4
}
